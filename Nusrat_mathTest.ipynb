{
  "nbformat": 4,
  "nbformat_minor": 0,
  "metadata": {
    "colab": {
      "provenance": [],
      "authorship_tag": "ABX9TyMgGfXRHIvtyxMeimbs+2NC",
      "include_colab_link": true
    },
    "kernelspec": {
      "name": "python3",
      "display_name": "Python 3"
    },
    "language_info": {
      "name": "python"
    }
  },
  "cells": [
    {
      "cell_type": "markdown",
      "metadata": {
        "id": "view-in-github",
        "colab_type": "text"
      },
      "source": [
        "<a href=\"https://colab.research.google.com/github/Nusrat-Richi/python/blob/main/Nusrat_mathTest.ipynb\" target=\"_parent\"><img src=\"https://colab.research.google.com/assets/colab-badge.svg\" alt=\"Open In Colab\"/></a>"
      ]
    },
    {
      "cell_type": "code",
      "execution_count": 1,
      "metadata": {
        "colab": {
          "base_uri": "https://localhost:8080/"
        },
        "id": "R7hoaD88Eluq",
        "outputId": "1a52b4a3-2992-407f-a234-33d1d71b77c7"
      },
      "outputs": [
        {
          "output_type": "stream",
          "name": "stdout",
          "text": [
            "--2024-11-07 05:23:23--  https://raw.githubusercontent.com/Nusrat-Richi/python/refs/heads/main/Nusrat_Math.py\n",
            "Resolving raw.githubusercontent.com (raw.githubusercontent.com)... 185.199.111.133, 185.199.108.133, 185.199.110.133, ...\n",
            "Connecting to raw.githubusercontent.com (raw.githubusercontent.com)|185.199.111.133|:443... connected.\n",
            "HTTP request sent, awaiting response... 200 OK\n",
            "Length: 97 [text/plain]\n",
            "Saving to: ‘Nusrat_Math.py’\n",
            "\n",
            "\rNusrat_Math.py        0%[                    ]       0  --.-KB/s               \rNusrat_Math.py      100%[===================>]      97  --.-KB/s    in 0s      \n",
            "\n",
            "2024-11-07 05:23:23 (1.03 MB/s) - ‘Nusrat_Math.py’ saved [97/97]\n",
            "\n",
            "Enter Digit:100\n",
            "3.141592653589793238462643383279502884197169399375105820974944592307816406286208998628034825342117068\n"
          ]
        }
      ],
      "source": [
        "import sys\n",
        "\n",
        "!wget https://raw.githubusercontent.com/Nusrat-Richi/python/refs/heads/main/Nusrat_Math.py\n",
        "\n",
        "sys.path.append('/content') # Add the current directory to the path\n",
        "\n",
        "from Nusrat_Math import print_pi_to_n_digits\n",
        "\n",
        "n=int(input(\"Enter Digit:\"))\n",
        "print(print_pi_to_n_digits(n))"
      ]
    }
  ]
}