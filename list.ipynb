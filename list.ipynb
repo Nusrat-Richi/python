{
  "nbformat": 4,
  "nbformat_minor": 0,
  "metadata": {
    "colab": {
      "provenance": []
    },
    "kernelspec": {
      "name": "python3",
      "display_name": "Python 3"
    },
    "language_info": {
      "name": "python"
    }
  },
  "cells": [
    {
      "cell_type": "code",
      "execution_count": 1,
      "metadata": {
        "colab": {
          "base_uri": "https://localhost:8080/"
        },
        "id": "c9Eb5EWK1zCK",
        "outputId": "f34354db-fa24-4672-f19c-42bc4b7bac82"
      },
      "outputs": [
        {
          "output_type": "stream",
          "name": "stdout",
          "text": [
            "E\n",
            "D\n",
            "G\n",
            "E\n",
            " \n",
            "EDGE\n",
            "students\n",
            "are\n",
            "from\n",
            "different\n",
            "\n",
            "\n",
            "STUDENTS\n",
            "ARE\n",
            "FROM\n",
            "DIFFERENT\n"
          ]
        }
      ],
      "source": [
        "mylist=[\"apple\",\"cherry\",\"Banana\",\"Mango\"]\n",
        "a=\"EDGE students are from different institutions not only from MBSTU\"\n",
        "for i in a[:5]:\n",
        "   print(i)\n",
        "b=a.split(\" \")\n",
        "for i in b[:5]:\n",
        "   print(i)\n",
        "print(\"\\n\")\n",
        "c=b[1:5]\n",
        "for i in c:\n",
        "  print(i.upper())"
      ]
    }
  ]
}