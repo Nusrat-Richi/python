{
  "nbformat": 4,
  "nbformat_minor": 0,
  "metadata": {
    "colab": {
      "provenance": [],
      "authorship_tag": "ABX9TyM0TTT528oMUJFDzzH7/Rln",
      "include_colab_link": true
    },
    "kernelspec": {
      "name": "python3",
      "display_name": "Python 3"
    },
    "language_info": {
      "name": "python"
    }
  },
  "cells": [
    {
      "cell_type": "markdown",
      "metadata": {
        "id": "view-in-github",
        "colab_type": "text"
      },
      "source": [
        "<a href=\"https://colab.research.google.com/github/Nusrat-Richi/python/blob/main/Maclaurin.ipynb\" target=\"_parent\"><img src=\"https://colab.research.google.com/assets/colab-badge.svg\" alt=\"Open In Colab\"/></a>"
      ]
    },
    {
      "cell_type": "code",
      "execution_count": null,
      "metadata": {
        "colab": {
          "base_uri": "https://localhost:8080/"
        },
        "id": "LlXlelBnvmgB",
        "outputId": "6af5a3f7-0ac5-442d-8738-7b7875e7c01c"
      },
      "outputs": [
        {
          "output_type": "stream",
          "name": "stdout",
          "text": [
            "1,2,3,\n",
            "\n",
            "2,4,5,\n",
            "\n",
            "6,7,8,\n",
            "\n"
          ]
        }
      ],
      "source": [
        "from array import *\n",
        "t=[[1,2,3],[2,4,5],[6,7,8]]\n",
        "for i in range(len(t)):\n",
        "  for j in range(len(t[i])):\n",
        "    print(t[i][j],end=',')\n",
        "  print('\\n')"
      ]
    },
    {
      "cell_type": "code",
      "source": [
        "from array import *\n",
        "t=[[1,2,3],[2,4,5],[6,7,8]]\n",
        "for i in range(len(t)):\n",
        "  for j in range(len(t[i])):\n",
        "    print(t[i][j],end=',')\n",
        "print('\\n')"
      ],
      "metadata": {
        "colab": {
          "base_uri": "https://localhost:8080/"
        },
        "id": "4M-iKHv82cwW",
        "outputId": "7b57e837-6a62-4b84-96bd-6d82f3009a67"
      },
      "execution_count": null,
      "outputs": [
        {
          "output_type": "stream",
          "name": "stdout",
          "text": [
            "1,2,3,2,4,5,6,7,8,\n",
            "\n"
          ]
        }
      ]
    },
    {
      "cell_type": "code",
      "source": [
        "import numpy as np\n",
        "t=np.array([[1,2,3],[2,4,5],[6,7,8]],dtype=object)\n",
        "for i in range(len(t)):\n",
        "  for j in range(len(t[i])):\n",
        "    print(t[i][j],end=',')\n",
        "  print('\\n')"
      ],
      "metadata": {
        "colab": {
          "base_uri": "https://localhost:8080/"
        },
        "id": "-l0OvgFf4ZGA",
        "outputId": "7b2f790c-015d-4a85-a032-16e57a202895"
      },
      "execution_count": null,
      "outputs": [
        {
          "output_type": "stream",
          "name": "stdout",
          "text": [
            "1,2,3,\n",
            "\n",
            "2,4,5,\n",
            "\n",
            "6,7,8,\n",
            "\n"
          ]
        }
      ]
    },
    {
      "cell_type": "code",
      "source": [
        "import numpy as np\n",
        "import math\n",
        "\n",
        "def e_x(x, terms=10):\n",
        "    sum = 0\n",
        "    for i in range(terms):\n",
        "      sum += (x ** i) / math.factorial(i)\n",
        "\n",
        "    return sum\n",
        "\n",
        "x = int(input(\"Enter x: \"))\n",
        "for n in range(1, 100):\n",
        "  print(\"e^\",x,\"(for \", n, \"terms\",\") = \", e_x(x, n))\n",
        "  print(\"Truncation Error = \", float(e**x - e_x(x, n)), \"for \", n, \"terms\")"
      ],
      "metadata": {
        "id": "Ss9yk9hTxnWc",
        "colab": {
          "base_uri": "https://localhost:8080/"
        },
        "outputId": "78f3e31d-da9d-4408-a274-12a5d1d5cf4a"
      },
      "execution_count": 43,
      "outputs": [
        {
          "output_type": "stream",
          "name": "stdout",
          "text": [
            "Enter x: 3\n",
            "e^ 3 (for  1 terms ) =  1.0\n",
            "Truncation Error =  19.085536923187664 for  1 terms\n",
            "e^ 3 (for  2 terms ) =  4.0\n",
            "Truncation Error =  16.085536923187664 for  2 terms\n",
            "e^ 3 (for  3 terms ) =  8.5\n",
            "Truncation Error =  11.585536923187664 for  3 terms\n",
            "e^ 3 (for  4 terms ) =  13.0\n",
            "Truncation Error =  7.085536923187664 for  4 terms\n",
            "e^ 3 (for  5 terms ) =  16.375\n",
            "Truncation Error =  3.7105369231876644 for  5 terms\n",
            "e^ 3 (for  6 terms ) =  18.4\n",
            "Truncation Error =  1.6855369231876658 for  6 terms\n",
            "e^ 3 (for  7 terms ) =  19.412499999999998\n",
            "Truncation Error =  0.6730369231876665 for  7 terms\n",
            "e^ 3 (for  8 terms ) =  19.846428571428568\n",
            "Truncation Error =  0.2391083517590964 for  8 terms\n",
            "e^ 3 (for  9 terms ) =  20.009151785714284\n",
            "Truncation Error =  0.07638513747338038 for  9 terms\n",
            "e^ 3 (for  10 terms ) =  20.063392857142855\n",
            "Truncation Error =  0.022144066044809563 for  10 terms\n",
            "e^ 3 (for  11 terms ) =  20.079665178571425\n",
            "Truncation Error =  0.005871744616239738 for  11 terms\n",
            "e^ 3 (for  12 terms ) =  20.08410308441558\n",
            "Truncation Error =  0.0014338387720833623 for  12 terms\n",
            "e^ 3 (for  13 terms ) =  20.08521256087662\n",
            "Truncation Error =  0.0003243623110442684 for  13 terms\n",
            "e^ 3 (for  14 terms ) =  20.08546859390609\n",
            "Truncation Error =  6.832928157507467e-05 for  14 terms\n",
            "e^ 3 (for  15 terms ) =  20.08552345812669\n",
            "Truncation Error =  1.346506097377187e-05 for  15 terms\n",
            "e^ 3 (for  16 terms ) =  20.08553443097081\n",
            "Truncation Error =  2.4922168542218515e-06 for  16 terms\n",
            "e^ 3 (for  17 terms ) =  20.085536488379084\n",
            "Truncation Error =  4.348085802519108e-07 for  17 terms\n",
            "e^ 3 (for  18 terms ) =  20.08553685145113\n",
            "Truncation Error =  7.173653315817319e-08 for  18 terms\n",
            "e^ 3 (for  19 terms ) =  20.08553691196314\n",
            "Truncation Error =  1.1224525309216915e-08 for  19 terms\n",
            "e^ 3 (for  20 terms ) =  20.085536921517665\n",
            "Truncation Error =  1.6699992499979999e-09 for  20 terms\n",
            "e^ 3 (for  21 terms ) =  20.085536922950844\n",
            "Truncation Error =  2.368203411151626e-10 for  21 terms\n",
            "e^ 3 (for  22 terms ) =  20.085536923155583\n",
            "Truncation Error =  3.2081004519568523e-11 for  22 terms\n",
            "e^ 3 (for  23 terms ) =  20.085536923183504\n",
            "Truncation Error =  4.1602277178753866e-12 for  23 terms\n",
            "e^ 3 (for  24 terms ) =  20.085536923187146\n",
            "Truncation Error =  5.186961971048731e-13 for  24 terms\n",
            "e^ 3 (for  25 terms ) =  20.0855369231876\n",
            "Truncation Error =  6.394884621840902e-14 for  25 terms\n",
            "e^ 3 (for  26 terms ) =  20.085536923187654\n",
            "Truncation Error =  1.0658141036401503e-14 for  26 terms\n",
            "e^ 3 (for  27 terms ) =  20.08553692318766\n",
            "Truncation Error =  3.552713678800501e-15 for  27 terms\n",
            "e^ 3 (for  28 terms ) =  20.08553692318766\n",
            "Truncation Error =  3.552713678800501e-15 for  28 terms\n",
            "e^ 3 (for  29 terms ) =  20.08553692318766\n",
            "Truncation Error =  3.552713678800501e-15 for  29 terms\n",
            "e^ 3 (for  30 terms ) =  20.08553692318766\n",
            "Truncation Error =  3.552713678800501e-15 for  30 terms\n",
            "e^ 3 (for  31 terms ) =  20.08553692318766\n",
            "Truncation Error =  3.552713678800501e-15 for  31 terms\n",
            "e^ 3 (for  32 terms ) =  20.08553692318766\n",
            "Truncation Error =  3.552713678800501e-15 for  32 terms\n",
            "e^ 3 (for  33 terms ) =  20.08553692318766\n",
            "Truncation Error =  3.552713678800501e-15 for  33 terms\n",
            "e^ 3 (for  34 terms ) =  20.08553692318766\n",
            "Truncation Error =  3.552713678800501e-15 for  34 terms\n",
            "e^ 3 (for  35 terms ) =  20.08553692318766\n",
            "Truncation Error =  3.552713678800501e-15 for  35 terms\n",
            "e^ 3 (for  36 terms ) =  20.08553692318766\n",
            "Truncation Error =  3.552713678800501e-15 for  36 terms\n",
            "e^ 3 (for  37 terms ) =  20.08553692318766\n",
            "Truncation Error =  3.552713678800501e-15 for  37 terms\n",
            "e^ 3 (for  38 terms ) =  20.08553692318766\n",
            "Truncation Error =  3.552713678800501e-15 for  38 terms\n",
            "e^ 3 (for  39 terms ) =  20.08553692318766\n",
            "Truncation Error =  3.552713678800501e-15 for  39 terms\n",
            "e^ 3 (for  40 terms ) =  20.08553692318766\n",
            "Truncation Error =  3.552713678800501e-15 for  40 terms\n",
            "e^ 3 (for  41 terms ) =  20.08553692318766\n",
            "Truncation Error =  3.552713678800501e-15 for  41 terms\n",
            "e^ 3 (for  42 terms ) =  20.08553692318766\n",
            "Truncation Error =  3.552713678800501e-15 for  42 terms\n",
            "e^ 3 (for  43 terms ) =  20.08553692318766\n",
            "Truncation Error =  3.552713678800501e-15 for  43 terms\n",
            "e^ 3 (for  44 terms ) =  20.08553692318766\n",
            "Truncation Error =  3.552713678800501e-15 for  44 terms\n",
            "e^ 3 (for  45 terms ) =  20.08553692318766\n",
            "Truncation Error =  3.552713678800501e-15 for  45 terms\n",
            "e^ 3 (for  46 terms ) =  20.08553692318766\n",
            "Truncation Error =  3.552713678800501e-15 for  46 terms\n",
            "e^ 3 (for  47 terms ) =  20.08553692318766\n",
            "Truncation Error =  3.552713678800501e-15 for  47 terms\n",
            "e^ 3 (for  48 terms ) =  20.08553692318766\n",
            "Truncation Error =  3.552713678800501e-15 for  48 terms\n",
            "e^ 3 (for  49 terms ) =  20.08553692318766\n",
            "Truncation Error =  3.552713678800501e-15 for  49 terms\n",
            "e^ 3 (for  50 terms ) =  20.08553692318766\n",
            "Truncation Error =  3.552713678800501e-15 for  50 terms\n",
            "e^ 3 (for  51 terms ) =  20.08553692318766\n",
            "Truncation Error =  3.552713678800501e-15 for  51 terms\n",
            "e^ 3 (for  52 terms ) =  20.08553692318766\n",
            "Truncation Error =  3.552713678800501e-15 for  52 terms\n",
            "e^ 3 (for  53 terms ) =  20.08553692318766\n",
            "Truncation Error =  3.552713678800501e-15 for  53 terms\n",
            "e^ 3 (for  54 terms ) =  20.08553692318766\n",
            "Truncation Error =  3.552713678800501e-15 for  54 terms\n",
            "e^ 3 (for  55 terms ) =  20.08553692318766\n",
            "Truncation Error =  3.552713678800501e-15 for  55 terms\n",
            "e^ 3 (for  56 terms ) =  20.08553692318766\n",
            "Truncation Error =  3.552713678800501e-15 for  56 terms\n",
            "e^ 3 (for  57 terms ) =  20.08553692318766\n",
            "Truncation Error =  3.552713678800501e-15 for  57 terms\n",
            "e^ 3 (for  58 terms ) =  20.08553692318766\n",
            "Truncation Error =  3.552713678800501e-15 for  58 terms\n",
            "e^ 3 (for  59 terms ) =  20.08553692318766\n",
            "Truncation Error =  3.552713678800501e-15 for  59 terms\n",
            "e^ 3 (for  60 terms ) =  20.08553692318766\n",
            "Truncation Error =  3.552713678800501e-15 for  60 terms\n",
            "e^ 3 (for  61 terms ) =  20.08553692318766\n",
            "Truncation Error =  3.552713678800501e-15 for  61 terms\n",
            "e^ 3 (for  62 terms ) =  20.08553692318766\n",
            "Truncation Error =  3.552713678800501e-15 for  62 terms\n",
            "e^ 3 (for  63 terms ) =  20.08553692318766\n",
            "Truncation Error =  3.552713678800501e-15 for  63 terms\n",
            "e^ 3 (for  64 terms ) =  20.08553692318766\n",
            "Truncation Error =  3.552713678800501e-15 for  64 terms\n",
            "e^ 3 (for  65 terms ) =  20.08553692318766\n",
            "Truncation Error =  3.552713678800501e-15 for  65 terms\n",
            "e^ 3 (for  66 terms ) =  20.08553692318766\n",
            "Truncation Error =  3.552713678800501e-15 for  66 terms\n",
            "e^ 3 (for  67 terms ) =  20.08553692318766\n",
            "Truncation Error =  3.552713678800501e-15 for  67 terms\n",
            "e^ 3 (for  68 terms ) =  20.08553692318766\n",
            "Truncation Error =  3.552713678800501e-15 for  68 terms\n",
            "e^ 3 (for  69 terms ) =  20.08553692318766\n",
            "Truncation Error =  3.552713678800501e-15 for  69 terms\n",
            "e^ 3 (for  70 terms ) =  20.08553692318766\n",
            "Truncation Error =  3.552713678800501e-15 for  70 terms\n",
            "e^ 3 (for  71 terms ) =  20.08553692318766\n",
            "Truncation Error =  3.552713678800501e-15 for  71 terms\n",
            "e^ 3 (for  72 terms ) =  20.08553692318766\n",
            "Truncation Error =  3.552713678800501e-15 for  72 terms\n",
            "e^ 3 (for  73 terms ) =  20.08553692318766\n",
            "Truncation Error =  3.552713678800501e-15 for  73 terms\n",
            "e^ 3 (for  74 terms ) =  20.08553692318766\n",
            "Truncation Error =  3.552713678800501e-15 for  74 terms\n",
            "e^ 3 (for  75 terms ) =  20.08553692318766\n",
            "Truncation Error =  3.552713678800501e-15 for  75 terms\n",
            "e^ 3 (for  76 terms ) =  20.08553692318766\n",
            "Truncation Error =  3.552713678800501e-15 for  76 terms\n",
            "e^ 3 (for  77 terms ) =  20.08553692318766\n",
            "Truncation Error =  3.552713678800501e-15 for  77 terms\n",
            "e^ 3 (for  78 terms ) =  20.08553692318766\n",
            "Truncation Error =  3.552713678800501e-15 for  78 terms\n",
            "e^ 3 (for  79 terms ) =  20.08553692318766\n",
            "Truncation Error =  3.552713678800501e-15 for  79 terms\n",
            "e^ 3 (for  80 terms ) =  20.08553692318766\n",
            "Truncation Error =  3.552713678800501e-15 for  80 terms\n",
            "e^ 3 (for  81 terms ) =  20.08553692318766\n",
            "Truncation Error =  3.552713678800501e-15 for  81 terms\n",
            "e^ 3 (for  82 terms ) =  20.08553692318766\n",
            "Truncation Error =  3.552713678800501e-15 for  82 terms\n",
            "e^ 3 (for  83 terms ) =  20.08553692318766\n",
            "Truncation Error =  3.552713678800501e-15 for  83 terms\n",
            "e^ 3 (for  84 terms ) =  20.08553692318766\n",
            "Truncation Error =  3.552713678800501e-15 for  84 terms\n",
            "e^ 3 (for  85 terms ) =  20.08553692318766\n",
            "Truncation Error =  3.552713678800501e-15 for  85 terms\n",
            "e^ 3 (for  86 terms ) =  20.08553692318766\n",
            "Truncation Error =  3.552713678800501e-15 for  86 terms\n",
            "e^ 3 (for  87 terms ) =  20.08553692318766\n",
            "Truncation Error =  3.552713678800501e-15 for  87 terms\n",
            "e^ 3 (for  88 terms ) =  20.08553692318766\n",
            "Truncation Error =  3.552713678800501e-15 for  88 terms\n",
            "e^ 3 (for  89 terms ) =  20.08553692318766\n",
            "Truncation Error =  3.552713678800501e-15 for  89 terms\n",
            "e^ 3 (for  90 terms ) =  20.08553692318766\n",
            "Truncation Error =  3.552713678800501e-15 for  90 terms\n",
            "e^ 3 (for  91 terms ) =  20.08553692318766\n",
            "Truncation Error =  3.552713678800501e-15 for  91 terms\n",
            "e^ 3 (for  92 terms ) =  20.08553692318766\n",
            "Truncation Error =  3.552713678800501e-15 for  92 terms\n",
            "e^ 3 (for  93 terms ) =  20.08553692318766\n",
            "Truncation Error =  3.552713678800501e-15 for  93 terms\n",
            "e^ 3 (for  94 terms ) =  20.08553692318766\n",
            "Truncation Error =  3.552713678800501e-15 for  94 terms\n",
            "e^ 3 (for  95 terms ) =  20.08553692318766\n",
            "Truncation Error =  3.552713678800501e-15 for  95 terms\n",
            "e^ 3 (for  96 terms ) =  20.08553692318766\n",
            "Truncation Error =  3.552713678800501e-15 for  96 terms\n",
            "e^ 3 (for  97 terms ) =  20.08553692318766\n",
            "Truncation Error =  3.552713678800501e-15 for  97 terms\n",
            "e^ 3 (for  98 terms ) =  20.08553692318766\n",
            "Truncation Error =  3.552713678800501e-15 for  98 terms\n",
            "e^ 3 (for  99 terms ) =  20.08553692318766\n",
            "Truncation Error =  3.552713678800501e-15 for  99 terms\n"
          ]
        }
      ]
    },
    {
      "cell_type": "code",
      "source": [
        "\n",
        "from math import e, factorial\n",
        "\n",
        "import numpy as np\n",
        "\n",
        "fac = np.vectorize(factorial)\n",
        "\n",
        "def e_x(x, terms=10.50):\n",
        "    n = np.arange(terms)\n",
        "    return (np.sum((x ** n) / fac(n)))\n",
        "\n",
        "x = 3\n",
        "print(\"Actual:\", e ** x)  # Using e from the standard library\n",
        "\n",
        "print(\"N (terms)\\tMaclaurin\\tError\")\n",
        "\n",
        "for n in range(1, 20):\n",
        "    maclaurin = e_x(x, terms=n)\n",
        "    print(f\"{n}\\t\\t{maclaurin:.03f}\\t\\t{e**x - maclaurin:.03f}\")\n"
      ],
      "metadata": {
        "colab": {
          "base_uri": "https://localhost:8080/"
        },
        "id": "X1al0bMF3wEy",
        "outputId": "068fd8ec-e0ff-4cfa-91d5-61ee8a0e3604"
      },
      "execution_count": 52,
      "outputs": [
        {
          "output_type": "stream",
          "name": "stdout",
          "text": [
            "Actual: 20.085536923187664\n",
            "N (terms)\tMaclaurin\tError\n",
            "1\t\t1.000\t\t19.086\n",
            "2\t\t4.000\t\t16.086\n",
            "3\t\t8.500\t\t11.586\n",
            "4\t\t13.000\t\t7.086\n",
            "5\t\t16.375\t\t3.711\n",
            "6\t\t18.400\t\t1.686\n",
            "7\t\t19.412\t\t0.673\n",
            "8\t\t19.846\t\t0.239\n",
            "9\t\t20.009\t\t0.076\n",
            "10\t\t20.063\t\t0.022\n",
            "11\t\t20.080\t\t0.006\n",
            "12\t\t20.084\t\t0.001\n",
            "13\t\t20.085\t\t0.000\n",
            "14\t\t20.085\t\t0.000\n",
            "15\t\t20.086\t\t0.000\n",
            "16\t\t20.086\t\t0.000\n",
            "17\t\t20.086\t\t0.000\n",
            "18\t\t20.086\t\t0.000\n",
            "19\t\t20.086\t\t0.000\n"
          ]
        }
      ]
    },
    {
      "cell_type": "code",
      "source": [],
      "metadata": {
        "id": "9FIopn1RNjun"
      },
      "execution_count": null,
      "outputs": []
    }
  ]
}