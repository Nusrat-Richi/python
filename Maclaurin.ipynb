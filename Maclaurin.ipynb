{
  "nbformat": 4,
  "nbformat_minor": 0,
  "metadata": {
    "colab": {
      "provenance": [],
      "authorship_tag": "ABX9TyOUesOfy782kaGJ6AS4Gz9o",
      "include_colab_link": true
    },
    "kernelspec": {
      "name": "python3",
      "display_name": "Python 3"
    },
    "language_info": {
      "name": "python"
    }
  },
  "cells": [
    {
      "cell_type": "markdown",
      "metadata": {
        "id": "view-in-github",
        "colab_type": "text"
      },
      "source": [
        "<a href=\"https://colab.research.google.com/github/Nusrat-Richi/python/blob/main/Maclaurin.ipynb\" target=\"_parent\"><img src=\"https://colab.research.google.com/assets/colab-badge.svg\" alt=\"Open In Colab\"/></a>"
      ]
    },
    {
      "cell_type": "code",
      "execution_count": 14,
      "metadata": {
        "colab": {
          "base_uri": "https://localhost:8080/"
        },
        "id": "LlXlelBnvmgB",
        "outputId": "6af5a3f7-0ac5-442d-8738-7b7875e7c01c"
      },
      "outputs": [
        {
          "output_type": "stream",
          "name": "stdout",
          "text": [
            "1,2,3,\n",
            "\n",
            "2,4,5,\n",
            "\n",
            "6,7,8,\n",
            "\n"
          ]
        }
      ],
      "source": [
        "from array import *\n",
        "t=[[1,2,3],[2,4,5],[6,7,8]]\n",
        "for i in range(len(t)):\n",
        "  for j in range(len(t[i])):\n",
        "    print(t[i][j],end=',')\n",
        "  print('\\n')"
      ]
    },
    {
      "cell_type": "code",
      "source": [
        "from array import *\n",
        "t=[[1,2,3],[2,4,5],[6,7,8]]\n",
        "for i in range(len(t)):\n",
        "  for j in range(len(t[i])):\n",
        "    print(t[i][j],end=',')\n",
        "print('\\n')"
      ],
      "metadata": {
        "colab": {
          "base_uri": "https://localhost:8080/"
        },
        "id": "4M-iKHv82cwW",
        "outputId": "7b57e837-6a62-4b84-96bd-6d82f3009a67"
      },
      "execution_count": 27,
      "outputs": [
        {
          "output_type": "stream",
          "name": "stdout",
          "text": [
            "1,2,3,2,4,5,6,7,8,\n",
            "\n"
          ]
        }
      ]
    },
    {
      "cell_type": "code",
      "source": [
        "import numpy as np\n",
        "t=np.array([[1,2,3],[2,4,5],[6,7,8]],dtype=object)\n",
        "for i in range(len(t)):\n",
        "  for j in range(len(t[i])):\n",
        "    print(t[i][j],end=',')\n",
        "  print('\\n')"
      ],
      "metadata": {
        "colab": {
          "base_uri": "https://localhost:8080/"
        },
        "id": "-l0OvgFf4ZGA",
        "outputId": "7b2f790c-015d-4a85-a032-16e57a202895"
      },
      "execution_count": 28,
      "outputs": [
        {
          "output_type": "stream",
          "name": "stdout",
          "text": [
            "1,2,3,\n",
            "\n",
            "2,4,5,\n",
            "\n",
            "6,7,8,\n",
            "\n"
          ]
        }
      ]
    },
    {
      "cell_type": "code",
      "source": [
        "import numpy as np\n",
        "import math\n",
        "\n",
        "def e_x(x, terms=10):\n",
        "    sum = 0\n",
        "    for i in range(terms):\n",
        "      sum += (x ** i) / math.factorial(i)\n",
        "\n",
        "    return sum\n",
        "\n",
        "x = int(input(\"Enter x: \"))\n",
        "for n in range(1, 100):\n",
        "  print(\"e^\",x,\"(for \", n, \"terms\",\") = \", e_x(x, n))\n",
        "  print(\"Truncation Error = \", float(e**x - e_x(x, n)), \"for \", n, \"terms\")"
      ],
      "metadata": {
        "id": "Ss9yk9hTxnWc"
      },
      "execution_count": null,
      "outputs": []
    },
    {
      "cell_type": "code",
      "source": [
        "from math import e,factorial\n",
        "import numpy as np\n",
        "f= np.vectorize(factorial)\n",
        "def e_x(x, terms=10.50):\n",
        "  n=np.arange(terms)\n",
        "  return (np.sum((x ** n) / f(n)))\n",
        "x=3\n",
        "print(\"Actual: \",e ** x)\n",
        "print(\"N(terms)\\tmaclaurian\\tError\")\n",
        "for i in range(1,20):\n",
        "  maclaurin=e_x(x, terms=n)\n",
        "  print(f\"{n}\\t\\t{maclaurin:.03f}\\t\\t{e**x - maclaurin:.03f}\")\n"
      ],
      "metadata": {
        "colab": {
          "base_uri": "https://localhost:8080/"
        },
        "id": "X1al0bMF3wEy",
        "outputId": "bccdc814-2fea-44de-af71-8c6415277f5a"
      },
      "execution_count": 42,
      "outputs": [
        {
          "output_type": "stream",
          "name": "stdout",
          "text": [
            "Actual:  20.085536923187664\n",
            "N(terms)\tmaclaurian\tError\n",
            "19\t\t20.086\t\t0.000\n",
            "19\t\t20.086\t\t0.000\n",
            "19\t\t20.086\t\t0.000\n",
            "19\t\t20.086\t\t0.000\n",
            "19\t\t20.086\t\t0.000\n",
            "19\t\t20.086\t\t0.000\n",
            "19\t\t20.086\t\t0.000\n",
            "19\t\t20.086\t\t0.000\n",
            "19\t\t20.086\t\t0.000\n",
            "19\t\t20.086\t\t0.000\n",
            "19\t\t20.086\t\t0.000\n",
            "19\t\t20.086\t\t0.000\n",
            "19\t\t20.086\t\t0.000\n",
            "19\t\t20.086\t\t0.000\n",
            "19\t\t20.086\t\t0.000\n",
            "19\t\t20.086\t\t0.000\n",
            "19\t\t20.086\t\t0.000\n",
            "19\t\t20.086\t\t0.000\n",
            "19\t\t20.086\t\t0.000\n"
          ]
        }
      ]
    }
  ]
}