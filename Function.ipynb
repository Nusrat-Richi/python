{
  "nbformat": 4,
  "nbformat_minor": 0,
  "metadata": {
    "colab": {
      "provenance": [],
      "authorship_tag": "ABX9TyM+BUgBgIdqBB/fbElP/bkJ",
      "include_colab_link": true
    },
    "kernelspec": {
      "name": "python3",
      "display_name": "Python 3"
    },
    "language_info": {
      "name": "python"
    }
  },
  "cells": [
    {
      "cell_type": "markdown",
      "metadata": {
        "id": "view-in-github",
        "colab_type": "text"
      },
      "source": [
        "<a href=\"https://colab.research.google.com/github/Nusrat-Richi/python/blob/main/Function.ipynb\" target=\"_parent\"><img src=\"https://colab.research.google.com/assets/colab-badge.svg\" alt=\"Open In Colab\"/></a>"
      ]
    },
    {
      "cell_type": "code",
      "execution_count": 3,
      "metadata": {
        "colab": {
          "base_uri": "https://localhost:8080/"
        },
        "id": "R3yJIA9sJ-Eu",
        "outputId": "83b13fed-5d4d-4a6e-bff4-c77e9f4068f0"
      },
      "outputs": [
        {
          "output_type": "stream",
          "name": "stdout",
          "text": [
            "The sum of the series 1 + 2 + ... + 20 is: 210\n"
          ]
        }
      ],
      "source": [
        "# Define the function in a cell\n",
        "def sum_of_series(n):\n",
        "    \"\"\"Calculate the sum of the series 1 + 2 + 3 + ... + n.\"\"\"\n",
        "    return n * (n + 1) // 2\n",
        "n = 20\n",
        "result = sum_of_series(n)\n",
        "print(f\"The sum of the series 1 + 2 + ... + {n} is: {result}\")"
      ]
    },
    {
      "cell_type": "code",
      "source": [],
      "metadata": {
        "id": "oleKtzIHLkEM"
      },
      "execution_count": null,
      "outputs": []
    }
  ]
}