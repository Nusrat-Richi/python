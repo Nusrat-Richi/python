{
  "nbformat": 4,
  "nbformat_minor": 0,
  "metadata": {
    "colab": {
      "provenance": [],
      "authorship_tag": "ABX9TyOKxjprBjBCiABnesXzJMKW",
      "include_colab_link": true
    },
    "kernelspec": {
      "name": "python3",
      "display_name": "Python 3"
    },
    "language_info": {
      "name": "python"
    }
  },
  "cells": [
    {
      "cell_type": "markdown",
      "metadata": {
        "id": "view-in-github",
        "colab_type": "text"
      },
      "source": [
        "<a href=\"https://colab.research.google.com/github/Nusrat-Richi/python/blob/main/pandasCSVtoOutputCSV.ipynb\" target=\"_parent\"><img src=\"https://colab.research.google.com/assets/colab-badge.svg\" alt=\"Open In Colab\"/></a>"
      ]
    },
    {
      "cell_type": "code",
      "execution_count": 12,
      "metadata": {
        "colab": {
          "base_uri": "https://localhost:8080/"
        },
        "id": "zMud4F905Ww9",
        "outputId": "18b36968-3f74-4ac1-ac1b-e3e694972cc9"
      },
      "outputs": [
        {
          "output_type": "stream",
          "name": "stdout",
          "text": [
            "10\n",
            "20\n",
            "50\n",
            "100\n",
            "200\n"
          ]
        }
      ],
      "source": [
        "import pandas as pd\n",
        "\n",
        "df = pd.read_csv('data.CSV')\n",
        "for i in df:\n",
        "  print(i,end='\\n')"
      ]
    },
    {
      "cell_type": "code",
      "source": [
        "import pandas as pd\n",
        "import sys\n",
        "!wget https://raw.githubusercontent.com/Nusrat-Richi/python/refs/heads/main/Nusrat_Math.py\n",
        "sys.path.append('/content')\n",
        "import Nusrat_Math as nm\n",
        "df = pd.read_csv('data.CSV')\n",
        "for i in df:\n",
        "  print(\"PI for digit = \",i)\n",
        "  print(nm.print_pi_to_n_digits(int(i)),end='\\n')\n",
        "  #print(i,end='\\n')"
      ],
      "metadata": {
        "colab": {
          "base_uri": "https://localhost:8080/"
        },
        "id": "kmV9kuXu_jEA",
        "outputId": "56826f14-f2d6-4445-c70d-eecc875eb744"
      },
      "execution_count": 16,
      "outputs": [
        {
          "output_type": "stream",
          "name": "stdout",
          "text": [
            "--2024-11-07 05:39:44--  https://raw.githubusercontent.com/Nusrat-Richi/python/refs/heads/main/Nusrat_Math.py\n",
            "Resolving raw.githubusercontent.com (raw.githubusercontent.com)... 185.199.108.133, 185.199.109.133, 185.199.110.133, ...\n",
            "Connecting to raw.githubusercontent.com (raw.githubusercontent.com)|185.199.108.133|:443... connected.\n",
            "HTTP request sent, awaiting response... 200 OK\n",
            "Length: 97 [text/plain]\n",
            "Saving to: ‘Nusrat_Math.py.2’\n",
            "\n",
            "\rNusrat_Math.py.2      0%[                    ]       0  --.-KB/s               \rNusrat_Math.py.2    100%[===================>]      97  --.-KB/s    in 0s      \n",
            "\n",
            "2024-11-07 05:39:44 (5.16 MB/s) - ‘Nusrat_Math.py.2’ saved [97/97]\n",
            "\n",
            "PI for digit =  10\n",
            "3.1415926536\n",
            "PI for digit =  20\n",
            "3.14159265358979323846\n",
            "PI for digit =  50\n",
            "3.14159265358979323846264338327950288419716939937511\n",
            "PI for digit =  100\n",
            "3.141592653589793238462643383279502884197169399375105820974944592307816406286208998628034825342117068\n",
            "PI for digit =  200\n",
            "3.14159265358979323846264338327950288419716939937510582097494459230781640628620899862803482534211706798214808651328230664709384460955058223172535940812848111745028410270193852110555964462294895493038196\n"
          ]
        }
      ]
    },
    {
      "cell_type": "code",
      "source": [
        "import pandas as pd\n",
        "import sys\n",
        "!wget https://raw.githubusercontent.com/Nusrat-Richi/python/refs/heads/main/Nusrat_Math.py\n",
        "sys.path.append('/content')\n",
        "import Nusrat_Math as nm\n",
        "df = pd.read_csv('data.CSV')\n",
        "pi_val_list=[]\n",
        "for i in df:\n",
        "  pi_val_list.append(nm.print_pi_to_n_digits(int(i)))\n",
        "output_df=pd.DataFrame(pi_val_list,columns=[\"PI Val\"])\n",
        "output_df.to_csv('output.csv',index=False)"
      ],
      "metadata": {
        "id": "DTKKkNFOzOKx",
        "colab": {
          "base_uri": "https://localhost:8080/"
        },
        "outputId": "5b9fdbf8-56f7-4c17-de88-30285fd6cdb4"
      },
      "execution_count": 18,
      "outputs": [
        {
          "output_type": "stream",
          "name": "stdout",
          "text": [
            "--2024-11-07 06:21:18--  https://raw.githubusercontent.com/Nusrat-Richi/python/refs/heads/main/Nusrat_Math.py\n",
            "Resolving raw.githubusercontent.com (raw.githubusercontent.com)... 185.199.109.133, 185.199.108.133, 185.199.110.133, ...\n",
            "Connecting to raw.githubusercontent.com (raw.githubusercontent.com)|185.199.109.133|:443... connected.\n",
            "HTTP request sent, awaiting response... 200 OK\n",
            "Length: 97 [text/plain]\n",
            "Saving to: ‘Nusrat_Math.py.4’\n",
            "\n",
            "\rNusrat_Math.py.4      0%[                    ]       0  --.-KB/s               \rNusrat_Math.py.4    100%[===================>]      97  --.-KB/s    in 0s      \n",
            "\n",
            "2024-11-07 06:21:18 (4.68 MB/s) - ‘Nusrat_Math.py.4’ saved [97/97]\n",
            "\n"
          ]
        }
      ]
    }
  ]
}